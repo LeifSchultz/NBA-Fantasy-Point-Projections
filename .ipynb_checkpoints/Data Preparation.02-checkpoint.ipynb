{
 "cells": [
  {
   "cell_type": "code",
   "execution_count": 1,
   "metadata": {},
   "outputs": [],
   "source": [
    "import os\n",
    "import glob\n",
    "import pandas as pd\n",
    "import numpy as np\n",
    "from tqdm.notebook import tqdm"
   ]
  },
  {
   "cell_type": "code",
   "execution_count": 224,
   "metadata": {},
   "outputs": [],
   "source": [
    "DATA_DIR = os.path.join(os.getcwd().replace('/src', ''), 'data')"
   ]
  },
  {
   "cell_type": "code",
   "execution_count": 3,
   "metadata": {},
   "outputs": [],
   "source": [
    "DF_VARIABLES = ['Name', 'Date', 'Team',  'FPTS', 'Home', 'W', 'W_PTS', 'L', 'L_PTS', 'MP',\n",
    "                'FG', 'FGA', 'FG_perc', '3P', '3PA', '3P_perc', 'FT', 'FTA', 'FT_perc',\n",
    "                'ORB', 'DRB', 'TRB', 'AST', 'STL', 'BLK', 'TOV', 'PF', 'PTS', 'DD', 'TD',\n",
    "                'USG_perc', 'DRtg', 'ORtg', 'AST_perc', 'DRB_perc', 'ORB_perc', 'BLK_perc',\n",
    "                'TOV_perc', 'STL_perc', 'eFG_perc']"
   ]
  },
  {
   "cell_type": "markdown",
   "metadata": {},
   "source": [
    "# Reading the Game Log Data\n",
    "Steps inlcude\n",
    "- Creating functions to prepare the csv files\n",
    "- Creating the a dataframe for the player game log stats"
   ]
  },
  {
   "cell_type": "markdown",
   "metadata": {},
   "source": [
    "## Functions for Preparing the files\n",
    "- Creating 3 Functions that will be used in reading the csv data, merging it, and calculating neccesary fantsy point stats"
   ]
  },
  {
   "cell_type": "markdown",
   "metadata": {},
   "source": [
    "### Function to merge multiple csv files"
   ]
  },
  {
   "cell_type": "code",
   "execution_count": 15,
   "metadata": {},
   "outputs": [],
   "source": [
    "def csv_concatenate(folder_path, nested=False):\n",
    "    # Concatenate all csv files under a directory\n",
    "    if nested == True:\n",
    "        files = glob.glob(folder_path + \"/*/*.csv\")\n",
    "    else:\n",
    "        files = glob.glob(folder_path + \"/*.csv\")\n",
    "\n",
    "    df_list = []\n",
    "\n",
    "    for file in files:\n",
    "        df_list.append(pd.read_csv(file, parse_dates=True,\n",
    "                                   infer_datetime_format=True))\n",
    "\n",
    "    # Fill nan with 0s as some values are empty for percentage points\n",
    "    df = pd.concat(df_list).fillna(0).reset_index(drop=True)\n",
    "\n",
    "    return df"
   ]
  },
  {
   "cell_type": "markdown",
   "metadata": {},
   "source": [
    "### Function to Create Double Double and Triple Double Stat"
   ]
  },
  {
   "cell_type": "code",
   "execution_count": 16,
   "metadata": {},
   "outputs": [],
   "source": [
    "def add_doubles(df):\n",
    "    dd = [0 for i in range(df.shape[0])]\n",
    "    td = [0 for i in range(df.shape[0])]\n",
    "    \n",
    "    for i in tqdm(range(df.shape[0])):\n",
    "        doubles_count = 0\n",
    "        check_doubles = ['PTS','TRB', 'AST', 'STL', 'BLK']\n",
    "        \n",
    "        for stat in check_doubles:\n",
    "            if df.loc[i, stat] >= 10:\n",
    "                doubles_count += 1\n",
    "        \n",
    "        if doubles_count >= 2:\n",
    "            dd[i] = 1\n",
    "        if doubles_count >= 3:\n",
    "            td[i] = 1\n",
    "   \n",
    "    df['DD'] = dd\n",
    "    df['TD'] = td"
   ]
  },
  {
   "cell_type": "markdown",
   "metadata": {},
   "source": [
    "### Function to Calculate Fantasy Points"
   ]
  },
  {
   "cell_type": "code",
   "execution_count": 17,
   "metadata": {},
   "outputs": [],
   "source": [
    "def calculate_FPTS(df):\n",
    "    multipliers = {'PTS': 1, '3P': 0.5, 'TRB': 1.25,\n",
    "                   'AST': 1.5, 'STL': 2, 'BLK': 2, 'TOV': -0.5}\n",
    "\n",
    "    indices = len(df)\n",
    "    fpts_list = []\n",
    "\n",
    "    for i in tqdm(range(indices)):\n",
    "        fpts = 0\n",
    "        doubles = 0\n",
    "        for stat, multiplier in multipliers.items():\n",
    "            if stat in ['PTS', 'TRB', 'AST', 'STL', 'BLK']:\n",
    "                if df.loc[i, stat] >= 10:\n",
    "                    doubles += 1\n",
    "            fpts += df.loc[i, stat]*multiplier\n",
    "        if doubles >= 2:\n",
    "            fpts += 1.5\n",
    "        if doubles >= 3:\n",
    "            fpts += 3\n",
    "        fpts_list.append(fpts)\n",
    "\n",
    "    return fpts_list"
   ]
  },
  {
   "cell_type": "markdown",
   "metadata": {},
   "source": [
    "## Creating Dataframe"
   ]
  },
  {
   "cell_type": "code",
   "execution_count": 21,
   "metadata": {},
   "outputs": [
    {
     "name": "stdout",
     "output_type": "stream",
     "text": [
      "Processing the 2020-21 season ...\n"
     ]
    },
    {
     "data": {
      "application/vnd.jupyter.widget-view+json": {
       "model_id": "1a79a27d476641da86cef63dadc75134",
       "version_major": 2,
       "version_minor": 0
      },
      "text/plain": [
       "HBox(children=(HTML(value=''), FloatProgress(value=0.0, max=23486.0), HTML(value='')))"
      ]
     },
     "metadata": {},
     "output_type": "display_data"
    },
    {
     "name": "stdout",
     "output_type": "stream",
     "text": [
      "\n"
     ]
    },
    {
     "data": {
      "application/vnd.jupyter.widget-view+json": {
       "model_id": "a1fb97d8489a4d82b626363d5c597633",
       "version_major": 2,
       "version_minor": 0
      },
      "text/plain": [
       "HBox(children=(HTML(value=''), FloatProgress(value=0.0, max=23486.0), HTML(value='')))"
      ]
     },
     "metadata": {},
     "output_type": "display_data"
    },
    {
     "name": "stdout",
     "output_type": "stream",
     "text": [
      "\n",
      "Processing the 2021-22 season ...\n"
     ]
    },
    {
     "data": {
      "application/vnd.jupyter.widget-view+json": {
       "model_id": "22051dfb273149059764917f560d5b84",
       "version_major": 2,
       "version_minor": 0
      },
      "text/plain": [
       "HBox(children=(HTML(value=''), FloatProgress(value=0.0, max=26331.0), HTML(value='')))"
      ]
     },
     "metadata": {},
     "output_type": "display_data"
    },
    {
     "name": "stdout",
     "output_type": "stream",
     "text": [
      "\n"
     ]
    },
    {
     "data": {
      "application/vnd.jupyter.widget-view+json": {
       "model_id": "75e0aad3436745a38ec557a6a7ccac68",
       "version_major": 2,
       "version_minor": 0
      },
      "text/plain": [
       "HBox(children=(HTML(value=''), FloatProgress(value=0.0, max=26331.0), HTML(value='')))"
      ]
     },
     "metadata": {},
     "output_type": "display_data"
    },
    {
     "name": "stdout",
     "output_type": "stream",
     "text": [
      "\n",
      "Processing the 2022-23 season ...\n"
     ]
    },
    {
     "data": {
      "application/vnd.jupyter.widget-view+json": {
       "model_id": "fa0a7320cc1f4451b2f64ae813449d9d",
       "version_major": 2,
       "version_minor": 0
      },
      "text/plain": [
       "HBox(children=(HTML(value=''), FloatProgress(value=0.0, max=17393.0), HTML(value='')))"
      ]
     },
     "metadata": {},
     "output_type": "display_data"
    },
    {
     "name": "stdout",
     "output_type": "stream",
     "text": [
      "\n"
     ]
    },
    {
     "data": {
      "application/vnd.jupyter.widget-view+json": {
       "model_id": "376f76ca40644d2b82abf645adc290b0",
       "version_major": 2,
       "version_minor": 0
      },
      "text/plain": [
       "HBox(children=(HTML(value=''), FloatProgress(value=0.0, max=17393.0), HTML(value='')))"
      ]
     },
     "metadata": {},
     "output_type": "display_data"
    },
    {
     "name": "stdout",
     "output_type": "stream",
     "text": [
      "\n"
     ]
    }
   ],
   "source": [
    "seasons = ['2020-21', '2021-22', '2022-23']\n",
    "\n",
    "df_games_list = []\n",
    "for season in seasons:\n",
    "    print('Processing the {} season ...'.format(season))\n",
    "    \n",
    "    df_season_games = csv_concatenate(os.path.join(DATA_DIR, 'Boxscores', season))\n",
    "    df_season_games['FPTS'] = calculate_FPTS(df_season_games)\n",
    "    add_doubles(df_season_games)\n",
    "    df_games_list.append(df_season_games)\n",
    "    \n",
    "df_games_rough = pd.concat(df_games_list)"
   ]
  },
  {
   "cell_type": "markdown",
   "metadata": {},
   "source": [
    "## Cleaning the Data\n",
    "- First step is creating new columns and dropping the columns that are not needed"
   ]
  },
  {
   "cell_type": "code",
   "execution_count": 63,
   "metadata": {},
   "outputs": [],
   "source": [
    "# Column showing how close the Game was\n",
    "df_games_rough['Spread'] = df_games_rough['W_PTS'] - df_games_rough['L_PTS']"
   ]
  },
  {
   "cell_type": "code",
   "execution_count": 95,
   "metadata": {},
   "outputs": [],
   "source": [
    "# Dropping down to neccesary columns \n",
    "df_ps_clean = df_games_rough[['Name','Date', 'Team', 'Home', 'W', 'L', 'Spread', 'MP', 'USG_perc','FPTS']]"
   ]
  },
  {
   "cell_type": "code",
   "execution_count": 96,
   "metadata": {},
   "outputs": [],
   "source": [
    "# Creating Column that shows Opposing team\n",
    "try:\n",
    "    Opp_list =[]\n",
    "    for i in range(len(df_ps_clean)):\n",
    "        if str(df_ps_clean[\"Team\"].iloc[i]) == str(df_ps_clean[\"W\"].iloc[i]):\n",
    "            Opp_list.append(str(df_ps_clean[\"L\"].iloc[i]))\n",
    "        if str(df_ps_clean[\"Team\"].iloc[i]) == str(df_ps_clean[\"L\"].iloc[i]):\n",
    "            Opp_list.append(str(df_ps_clean[\"W\"].iloc[i]))\n",
    "except Exception:\n",
    "    pass"
   ]
  },
  {
   "cell_type": "code",
   "execution_count": 97,
   "metadata": {},
   "outputs": [
    {
     "name": "stderr",
     "output_type": "stream",
     "text": [
      "<ipython-input-97-730dba07021d>:2: SettingWithCopyWarning: \n",
      "A value is trying to be set on a copy of a slice from a DataFrame.\n",
      "Try using .loc[row_indexer,col_indexer] = value instead\n",
      "\n",
      "See the caveats in the documentation: https://pandas.pydata.org/pandas-docs/stable/user_guide/indexing.html#returning-a-view-versus-a-copy\n",
      "  df_ps_clean['Opp'] = se.values\n"
     ]
    }
   ],
   "source": [
    "se = pd.Series(Opp_list)\n",
    "df_ps_clean['Opp'] = se.values"
   ]
  },
  {
   "cell_type": "code",
   "execution_count": 103,
   "metadata": {},
   "outputs": [
    {
     "name": "stderr",
     "output_type": "stream",
     "text": [
      "<ipython-input-103-84325e87b381>:1: SettingWithCopyWarning: \n",
      "A value is trying to be set on a copy of a slice from a DataFrame.\n",
      "Try using .loc[row_indexer,col_indexer] = value instead\n",
      "\n",
      "See the caveats in the documentation: https://pandas.pydata.org/pandas-docs/stable/user_guide/indexing.html#returning-a-view-versus-a-copy\n",
      "  df_ps_clean['Date'] = pd.to_datetime(df_ps_clean['Date'], format='%Y%m%d')\n"
     ]
    }
   ],
   "source": [
    "# Changing Date colum from int to date time\n",
    "df_ps_clean['Date'] = pd.to_datetime(df_ps_clean['Date'], format='%Y%m%d')"
   ]
  },
  {
   "cell_type": "code",
   "execution_count": 153,
   "metadata": {},
   "outputs": [
    {
     "name": "stdout",
     "output_type": "stream",
     "text": [
      "<class 'pandas.core.frame.DataFrame'>\n",
      "Int64Index: 67210 entries, 0 to 17392\n",
      "Data columns (total 11 columns):\n",
      " #   Column    Non-Null Count  Dtype         \n",
      "---  ------    --------------  -----         \n",
      " 0   Name      67210 non-null  object        \n",
      " 1   Date      67210 non-null  datetime64[ns]\n",
      " 2   Team      67210 non-null  object        \n",
      " 3   Home      67210 non-null  int64         \n",
      " 4   W         67210 non-null  object        \n",
      " 5   L         67210 non-null  object        \n",
      " 6   Spread    67210 non-null  int64         \n",
      " 7   MP        67210 non-null  float64       \n",
      " 8   USG_perc  67210 non-null  float64       \n",
      " 9   FPTS      67210 non-null  float64       \n",
      " 10  Opp       67210 non-null  object        \n",
      "dtypes: datetime64[ns](1), float64(3), int64(2), object(5)\n",
      "memory usage: 8.7+ MB\n"
     ]
    }
   ],
   "source": [
    "df_ps_clean.info()"
   ]
  },
  {
   "cell_type": "markdown",
   "metadata": {},
   "source": [
    "# Reading in Team Data Stats"
   ]
  },
  {
   "cell_type": "code",
   "execution_count": 106,
   "metadata": {
    "scrolled": true
   },
   "outputs": [
    {
     "name": "stdout",
     "output_type": "stream",
     "text": [
      "['C:\\\\Users\\\\12242\\\\103122\\\\NBA-Fantasy-Point-Projections\\\\data\\\\Team Stats\\\\Team_Stats_NBA_2021.html.csv', 'C:\\\\Users\\\\12242\\\\103122\\\\NBA-Fantasy-Point-Projections\\\\data\\\\Team Stats\\\\Team_Stats_NBA_2022.html.csv', 'C:\\\\Users\\\\12242\\\\103122\\\\NBA-Fantasy-Point-Projections\\\\data\\\\Team Stats\\\\Team_Stats_NBA_2023.html.csv']\n"
     ]
    }
   ],
   "source": [
    "files = glob.glob('C:\\\\Users\\\\12242\\\\103122\\\\NBA-Fantasy-Point-Projections\\\\data\\\\Team Stats\\\\Team_Stats_*.csv')\n",
    "print (files)\n",
    "\n",
    "# Merging the three csv files into one Dataframe, and Adding another column that shows the season\n",
    "df_ts_rough = pd.concat([pd.read_csv(fp).assign(New=os.path.basename(fp).split('.')[0]) \n",
    "       for fp in files], axis=0)"
   ]
  },
  {
   "cell_type": "markdown",
   "metadata": {},
   "source": [
    "## Cleaning the Data"
   ]
  },
  {
   "cell_type": "code",
   "execution_count": 107,
   "metadata": {},
   "outputs": [],
   "source": [
    "# Setting first row as the column headers\n",
    "headers = df_ts_rough.iloc[0]\n",
    "df_ts_clean = pd.DataFrame(df_ts_rough.values[1:], columns=headers)"
   ]
  },
  {
   "cell_type": "code",
   "execution_count": 108,
   "metadata": {},
   "outputs": [],
   "source": [
    "# Removing problematic symbols\n",
    "df_ts_clean.Team = df_ts_clean.Team.str.replace('*','')"
   ]
  },
  {
   "cell_type": "code",
   "execution_count": 109,
   "metadata": {},
   "outputs": [],
   "source": [
    "# Changing team names to same format as the other data set\n",
    "mapping = {'Atlanta Hawks': 'ATL',\n",
    "  'Boston Celtics': 'BOS',\n",
    "  'Brooklyn Nets': 'BRK',\n",
    "  'Chicago Bulls': 'CHI',\n",
    "  'Charlotte Hornets': 'CHO',\n",
    "  'Cleveland Cavaliers': 'CLE',\n",
    "  'Dallas Mavericks': 'DAL',\n",
    "  'Denver Nuggets': 'DEN',\n",
    "  'Detroit Pistons': 'DET',\n",
    "  'Golden State Warriors': 'GSW',\n",
    "  'Houston Rockets': 'HOU',\n",
    "  'Indiana Pacers': 'IND',\n",
    "  'Los Angeles Clippers': 'LAC',\n",
    "  'Los Angeles Lakers': 'LAL',\n",
    "  'Memphis Grizzlies': 'MEM',\n",
    "  'Miami Heat': 'MIA',\n",
    "  'Milwaukee Bucks': 'MIL',\n",
    "  'Minnesota Timberwolves': 'MIN',\n",
    "  'New Orleans Pelicans': 'NOP',\n",
    "  'New York Knicks': 'NYK',\n",
    "  'Oklahoma City Thunder': 'OKC',\n",
    "  'Orlando Magic': 'ORL',\n",
    "  'Philadelphia 76ers': 'PHI',\n",
    "  'Phoenix Suns': 'PHO',\n",
    "  'Portland Trail Blazers': 'POR',\n",
    "  'Sacramento Kings': 'SAC',\n",
    "  'San Antonio Spurs': 'SAS',\n",
    "  'Toronto Raptors': 'TOR',\n",
    "  'Utah Jazz': 'UTA',\n",
    "  'Washington Wizards': 'WAS'}"
   ]
  },
  {
   "cell_type": "code",
   "execution_count": 110,
   "metadata": {
    "scrolled": true
   },
   "outputs": [],
   "source": [
    "df_ts_clean['Team'] = df_ts_clean['Team'].map(mapping)"
   ]
  },
  {
   "cell_type": "code",
   "execution_count": 113,
   "metadata": {},
   "outputs": [],
   "source": [
    "df_ts_clean.rename(columns = {'Team_Stats_NBA_2021':'Season'}, inplace = True)"
   ]
  },
  {
   "cell_type": "code",
   "execution_count": 117,
   "metadata": {},
   "outputs": [],
   "source": [
    "# Create new data frame with only the columns needed\n",
    "df_ts = df_ts_clean[['Team','Pace', 'ORtg', 'DRtg', 'eFG%', 'Season']]"
   ]
  },
  {
   "cell_type": "code",
   "execution_count": 122,
   "metadata": {},
   "outputs": [
    {
     "data": {
      "text/plain": [
       "[4, 5]"
      ]
     },
     "execution_count": 122,
     "metadata": {},
     "output_type": "execute_result"
    }
   ],
   "source": [
    "[col_index for col_index, col_name in enumerate(df_ts.columns) if col_name in 'eFG%']"
   ]
  },
  {
   "cell_type": "markdown",
   "metadata": {},
   "source": [
    "### Renaming Columns"
   ]
  },
  {
   "cell_type": "code",
   "execution_count": 142,
   "metadata": {},
   "outputs": [
    {
     "name": "stderr",
     "output_type": "stream",
     "text": [
      "C:\\Users\\12242\\anaconda3\\envs\\learn-env\\lib\\site-packages\\pandas\\core\\frame.py:4296: SettingWithCopyWarning: \n",
      "A value is trying to be set on a copy of a slice from a DataFrame\n",
      "\n",
      "See the caveats in the documentation: https://pandas.pydata.org/pandas-docs/stable/user_guide/indexing.html#returning-a-view-versus-a-copy\n",
      "  return super().rename(\n"
     ]
    }
   ],
   "source": [
    "df_ts.rename(columns = {'Season': 'Date'}, inplace = True)"
   ]
  },
  {
   "cell_type": "code",
   "execution_count": 124,
   "metadata": {},
   "outputs": [],
   "source": [
    "df_ts.columns.values[4] = 'Off_eFG%'\n",
    "df_ts.columns.values[5] = 'DEF_eFG%'"
   ]
  },
  {
   "cell_type": "code",
   "execution_count": 131,
   "metadata": {},
   "outputs": [
    {
     "name": "stderr",
     "output_type": "stream",
     "text": [
      "<ipython-input-131-323b1baf81a6>:1: SettingWithCopyWarning: \n",
      "A value is trying to be set on a copy of a slice from a DataFrame\n",
      "\n",
      "See the caveats in the documentation: https://pandas.pydata.org/pandas-docs/stable/user_guide/indexing.html#returning-a-view-versus-a-copy\n",
      "  df_ts.dropna(subset=['Team'], inplace=True)\n"
     ]
    }
   ],
   "source": [
    "# Dropping nulls\n",
    "df_ts.dropna(subset=['Team'], inplace=True)"
   ]
  },
  {
   "cell_type": "code",
   "execution_count": 132,
   "metadata": {
    "scrolled": true
   },
   "outputs": [
    {
     "name": "stdout",
     "output_type": "stream",
     "text": [
      "<class 'pandas.core.frame.DataFrame'>\n",
      "Int64Index: 90 entries, 0 to 93\n",
      "Data columns (total 7 columns):\n",
      " #   Column    Non-Null Count  Dtype \n",
      "---  ------    --------------  ----- \n",
      " 0   Team      90 non-null     object\n",
      " 1   Pace      90 non-null     object\n",
      " 2   ORtg      90 non-null     object\n",
      " 3   DRtg      90 non-null     object\n",
      " 4   Off_eFG%  90 non-null     object\n",
      " 5   DEF_eFG%  90 non-null     object\n",
      " 6   Season    90 non-null     object\n",
      "dtypes: object(7)\n",
      "memory usage: 5.6+ KB\n"
     ]
    }
   ],
   "source": [
    "df_ts.info()"
   ]
  },
  {
   "cell_type": "code",
   "execution_count": 143,
   "metadata": {},
   "outputs": [
    {
     "data": {
      "text/html": [
       "<div>\n",
       "<style scoped>\n",
       "    .dataframe tbody tr th:only-of-type {\n",
       "        vertical-align: middle;\n",
       "    }\n",
       "\n",
       "    .dataframe tbody tr th {\n",
       "        vertical-align: top;\n",
       "    }\n",
       "\n",
       "    .dataframe thead th {\n",
       "        text-align: right;\n",
       "    }\n",
       "</style>\n",
       "<table border=\"1\" class=\"dataframe\">\n",
       "  <thead>\n",
       "    <tr style=\"text-align: right;\">\n",
       "      <th></th>\n",
       "      <th>Team</th>\n",
       "      <th>Pace</th>\n",
       "      <th>ORtg</th>\n",
       "      <th>DRtg</th>\n",
       "      <th>Off_eFG%</th>\n",
       "      <th>DEF_eFG%</th>\n",
       "      <th>Date</th>\n",
       "    </tr>\n",
       "  </thead>\n",
       "  <tbody>\n",
       "    <tr>\n",
       "      <th>0</th>\n",
       "      <td>UTA</td>\n",
       "      <td>98.5</td>\n",
       "      <td>117.6</td>\n",
       "      <td>108.3</td>\n",
       "      <td>0.563</td>\n",
       "      <td>0.507</td>\n",
       "      <td>2021</td>\n",
       "    </tr>\n",
       "    <tr>\n",
       "      <th>1</th>\n",
       "      <td>LAC</td>\n",
       "      <td>96.9</td>\n",
       "      <td>117.6</td>\n",
       "      <td>111.2</td>\n",
       "      <td>0.564</td>\n",
       "      <td>0.531</td>\n",
       "      <td>2021</td>\n",
       "    </tr>\n",
       "    <tr>\n",
       "      <th>2</th>\n",
       "      <td>PHO</td>\n",
       "      <td>97.2</td>\n",
       "      <td>117.2</td>\n",
       "      <td>111.3</td>\n",
       "      <td>0.564</td>\n",
       "      <td>0.534</td>\n",
       "      <td>2021</td>\n",
       "    </tr>\n",
       "    <tr>\n",
       "      <th>3</th>\n",
       "      <td>MIL</td>\n",
       "      <td>102.2</td>\n",
       "      <td>117.2</td>\n",
       "      <td>111.4</td>\n",
       "      <td>0.566</td>\n",
       "      <td>0.536</td>\n",
       "      <td>2021</td>\n",
       "    </tr>\n",
       "    <tr>\n",
       "      <th>4</th>\n",
       "      <td>PHI</td>\n",
       "      <td>99.5</td>\n",
       "      <td>113.2</td>\n",
       "      <td>107.6</td>\n",
       "      <td>0.541</td>\n",
       "      <td>0.521</td>\n",
       "      <td>2021</td>\n",
       "    </tr>\n",
       "  </tbody>\n",
       "</table>\n",
       "</div>"
      ],
      "text/plain": [
       "0 Team   Pace   ORtg   DRtg  Off_eFG%  DEF_eFG%  Date\n",
       "0  UTA   98.5  117.6  108.3     0.563     0.507  2021\n",
       "1  LAC   96.9  117.6  111.2     0.564     0.531  2021\n",
       "2  PHO   97.2  117.2  111.3     0.564     0.534  2021\n",
       "3  MIL  102.2  117.2  111.4     0.566     0.536  2021\n",
       "4  PHI   99.5  113.2  107.6     0.541     0.521  2021"
      ]
     },
     "execution_count": 143,
     "metadata": {},
     "output_type": "execute_result"
    }
   ],
   "source": [
    "df_ts.head()"
   ]
  },
  {
   "cell_type": "markdown",
   "metadata": {},
   "source": [
    "## Changing Columns from Object to Numeric"
   ]
  },
  {
   "cell_type": "code",
   "execution_count": 126,
   "metadata": {
    "scrolled": false
   },
   "outputs": [
    {
     "name": "stderr",
     "output_type": "stream",
     "text": [
      "<ipython-input-126-adbeced8421b>:1: SettingWithCopyWarning: \n",
      "A value is trying to be set on a copy of a slice from a DataFrame.\n",
      "Try using .loc[row_indexer,col_indexer] = value instead\n",
      "\n",
      "See the caveats in the documentation: https://pandas.pydata.org/pandas-docs/stable/user_guide/indexing.html#returning-a-view-versus-a-copy\n",
      "  df_ts['Season'] = df_ts['Season'].str.strip().str[-4:]\n"
     ]
    }
   ],
   "source": [
    "df_ts['Season'] = df_ts['Season'].str.strip().str[-4:]"
   ]
  },
  {
   "cell_type": "code",
   "execution_count": 137,
   "metadata": {},
   "outputs": [
    {
     "name": "stderr",
     "output_type": "stream",
     "text": [
      "C:\\Users\\12242\\anaconda3\\envs\\learn-env\\lib\\site-packages\\pandas\\core\\frame.py:3065: SettingWithCopyWarning: \n",
      "A value is trying to be set on a copy of a slice from a DataFrame.\n",
      "Try using .loc[row_indexer,col_indexer] = value instead\n",
      "\n",
      "See the caveats in the documentation: https://pandas.pydata.org/pandas-docs/stable/user_guide/indexing.html#returning-a-view-versus-a-copy\n",
      "  self[k1] = value[k2]\n"
     ]
    }
   ],
   "source": [
    "cols = ['Pace','ORtg', 'DRtg', 'Off_eFG%', 'DEF_eFG%']\n",
    "df_ts[cols] = df_ts[cols].apply(pd.to_numeric, errors='coerce', axis=1)"
   ]
  },
  {
   "cell_type": "code",
   "execution_count": 144,
   "metadata": {},
   "outputs": [
    {
     "data": {
      "text/html": [
       "<div>\n",
       "<style scoped>\n",
       "    .dataframe tbody tr th:only-of-type {\n",
       "        vertical-align: middle;\n",
       "    }\n",
       "\n",
       "    .dataframe tbody tr th {\n",
       "        vertical-align: top;\n",
       "    }\n",
       "\n",
       "    .dataframe thead th {\n",
       "        text-align: right;\n",
       "    }\n",
       "</style>\n",
       "<table border=\"1\" class=\"dataframe\">\n",
       "  <thead>\n",
       "    <tr style=\"text-align: right;\">\n",
       "      <th></th>\n",
       "      <th>Team</th>\n",
       "      <th>Pace</th>\n",
       "      <th>ORtg</th>\n",
       "      <th>DRtg</th>\n",
       "      <th>Off_eFG%</th>\n",
       "      <th>DEF_eFG%</th>\n",
       "      <th>Date</th>\n",
       "    </tr>\n",
       "  </thead>\n",
       "  <tbody>\n",
       "    <tr>\n",
       "      <th>0</th>\n",
       "      <td>UTA</td>\n",
       "      <td>98.5</td>\n",
       "      <td>117.6</td>\n",
       "      <td>108.3</td>\n",
       "      <td>0.563</td>\n",
       "      <td>0.507</td>\n",
       "      <td>2021</td>\n",
       "    </tr>\n",
       "    <tr>\n",
       "      <th>1</th>\n",
       "      <td>LAC</td>\n",
       "      <td>96.9</td>\n",
       "      <td>117.6</td>\n",
       "      <td>111.2</td>\n",
       "      <td>0.564</td>\n",
       "      <td>0.531</td>\n",
       "      <td>2021</td>\n",
       "    </tr>\n",
       "    <tr>\n",
       "      <th>2</th>\n",
       "      <td>PHO</td>\n",
       "      <td>97.2</td>\n",
       "      <td>117.2</td>\n",
       "      <td>111.3</td>\n",
       "      <td>0.564</td>\n",
       "      <td>0.534</td>\n",
       "      <td>2021</td>\n",
       "    </tr>\n",
       "    <tr>\n",
       "      <th>3</th>\n",
       "      <td>MIL</td>\n",
       "      <td>102.2</td>\n",
       "      <td>117.2</td>\n",
       "      <td>111.4</td>\n",
       "      <td>0.566</td>\n",
       "      <td>0.536</td>\n",
       "      <td>2021</td>\n",
       "    </tr>\n",
       "    <tr>\n",
       "      <th>4</th>\n",
       "      <td>PHI</td>\n",
       "      <td>99.5</td>\n",
       "      <td>113.2</td>\n",
       "      <td>107.6</td>\n",
       "      <td>0.541</td>\n",
       "      <td>0.521</td>\n",
       "      <td>2021</td>\n",
       "    </tr>\n",
       "    <tr>\n",
       "      <th>...</th>\n",
       "      <td>...</td>\n",
       "      <td>...</td>\n",
       "      <td>...</td>\n",
       "      <td>...</td>\n",
       "      <td>...</td>\n",
       "      <td>...</td>\n",
       "      <td>...</td>\n",
       "    </tr>\n",
       "    <tr>\n",
       "      <th>89</th>\n",
       "      <td>IND</td>\n",
       "      <td>101.0</td>\n",
       "      <td>113.1</td>\n",
       "      <td>115.9</td>\n",
       "      <td>0.535</td>\n",
       "      <td>0.547</td>\n",
       "      <td>2023</td>\n",
       "    </tr>\n",
       "    <tr>\n",
       "      <th>90</th>\n",
       "      <td>CHO</td>\n",
       "      <td>101.1</td>\n",
       "      <td>110.0</td>\n",
       "      <td>116.5</td>\n",
       "      <td>0.514</td>\n",
       "      <td>0.554</td>\n",
       "      <td>2023</td>\n",
       "    </tr>\n",
       "    <tr>\n",
       "      <th>91</th>\n",
       "      <td>DET</td>\n",
       "      <td>99.8</td>\n",
       "      <td>111.6</td>\n",
       "      <td>118.9</td>\n",
       "      <td>0.521</td>\n",
       "      <td>0.560</td>\n",
       "      <td>2023</td>\n",
       "    </tr>\n",
       "    <tr>\n",
       "      <th>92</th>\n",
       "      <td>HOU</td>\n",
       "      <td>99.4</td>\n",
       "      <td>110.3</td>\n",
       "      <td>118.2</td>\n",
       "      <td>0.514</td>\n",
       "      <td>0.558</td>\n",
       "      <td>2023</td>\n",
       "    </tr>\n",
       "    <tr>\n",
       "      <th>93</th>\n",
       "      <td>SAS</td>\n",
       "      <td>101.1</td>\n",
       "      <td>110.5</td>\n",
       "      <td>120.5</td>\n",
       "      <td>0.528</td>\n",
       "      <td>0.579</td>\n",
       "      <td>2023</td>\n",
       "    </tr>\n",
       "  </tbody>\n",
       "</table>\n",
       "<p>90 rows × 7 columns</p>\n",
       "</div>"
      ],
      "text/plain": [
       "0  Team   Pace   ORtg   DRtg  Off_eFG%  DEF_eFG%  Date\n",
       "0   UTA   98.5  117.6  108.3     0.563     0.507  2021\n",
       "1   LAC   96.9  117.6  111.2     0.564     0.531  2021\n",
       "2   PHO   97.2  117.2  111.3     0.564     0.534  2021\n",
       "3   MIL  102.2  117.2  111.4     0.566     0.536  2021\n",
       "4   PHI   99.5  113.2  107.6     0.541     0.521  2021\n",
       "..  ...    ...    ...    ...       ...       ...   ...\n",
       "89  IND  101.0  113.1  115.9     0.535     0.547  2023\n",
       "90  CHO  101.1  110.0  116.5     0.514     0.554  2023\n",
       "91  DET   99.8  111.6  118.9     0.521     0.560  2023\n",
       "92  HOU   99.4  110.3  118.2     0.514     0.558  2023\n",
       "93  SAS  101.1  110.5  120.5     0.528     0.579  2023\n",
       "\n",
       "[90 rows x 7 columns]"
      ]
     },
     "execution_count": 144,
     "metadata": {},
     "output_type": "execute_result"
    }
   ],
   "source": [
    "df_ts.round({'Off_eFG%': 3, 'DEF_eFG%': 3})"
   ]
  },
  {
   "cell_type": "code",
   "execution_count": 151,
   "metadata": {},
   "outputs": [
    {
     "name": "stderr",
     "output_type": "stream",
     "text": [
      "<ipython-input-151-f63727e82713>:1: SettingWithCopyWarning: \n",
      "A value is trying to be set on a copy of a slice from a DataFrame.\n",
      "Try using .loc[row_indexer,col_indexer] = value instead\n",
      "\n",
      "See the caveats in the documentation: https://pandas.pydata.org/pandas-docs/stable/user_guide/indexing.html#returning-a-view-versus-a-copy\n",
      "  df_ts['Date'] = pd.to_datetime(df_ts['Date'], format='%Y')\n"
     ]
    }
   ],
   "source": [
    "df_ts['Date'] = pd.to_datetime(df_ts['Date'], format='%Y')"
   ]
  },
  {
   "cell_type": "code",
   "execution_count": 163,
   "metadata": {
    "scrolled": false
   },
   "outputs": [
    {
     "data": {
      "text/html": [
       "<div>\n",
       "<style scoped>\n",
       "    .dataframe tbody tr th:only-of-type {\n",
       "        vertical-align: middle;\n",
       "    }\n",
       "\n",
       "    .dataframe tbody tr th {\n",
       "        vertical-align: top;\n",
       "    }\n",
       "\n",
       "    .dataframe thead th {\n",
       "        text-align: right;\n",
       "    }\n",
       "</style>\n",
       "<table border=\"1\" class=\"dataframe\">\n",
       "  <thead>\n",
       "    <tr style=\"text-align: right;\">\n",
       "      <th></th>\n",
       "      <th>Team</th>\n",
       "      <th>Pace</th>\n",
       "      <th>ORtg</th>\n",
       "      <th>DRtg</th>\n",
       "      <th>Off_eFG%</th>\n",
       "      <th>DEF_eFG%</th>\n",
       "      <th>Date</th>\n",
       "    </tr>\n",
       "  </thead>\n",
       "  <tbody>\n",
       "    <tr>\n",
       "      <th>0</th>\n",
       "      <td>UTA</td>\n",
       "      <td>98.5</td>\n",
       "      <td>117.6</td>\n",
       "      <td>108.3</td>\n",
       "      <td>0.563</td>\n",
       "      <td>0.507</td>\n",
       "      <td>2021-01-01</td>\n",
       "    </tr>\n",
       "    <tr>\n",
       "      <th>1</th>\n",
       "      <td>LAC</td>\n",
       "      <td>96.9</td>\n",
       "      <td>117.6</td>\n",
       "      <td>111.2</td>\n",
       "      <td>0.564</td>\n",
       "      <td>0.531</td>\n",
       "      <td>2021-01-01</td>\n",
       "    </tr>\n",
       "    <tr>\n",
       "      <th>2</th>\n",
       "      <td>PHO</td>\n",
       "      <td>97.2</td>\n",
       "      <td>117.2</td>\n",
       "      <td>111.3</td>\n",
       "      <td>0.564</td>\n",
       "      <td>0.534</td>\n",
       "      <td>2021-01-01</td>\n",
       "    </tr>\n",
       "    <tr>\n",
       "      <th>3</th>\n",
       "      <td>MIL</td>\n",
       "      <td>102.2</td>\n",
       "      <td>117.2</td>\n",
       "      <td>111.4</td>\n",
       "      <td>0.566</td>\n",
       "      <td>0.536</td>\n",
       "      <td>2021-01-01</td>\n",
       "    </tr>\n",
       "    <tr>\n",
       "      <th>4</th>\n",
       "      <td>PHI</td>\n",
       "      <td>99.5</td>\n",
       "      <td>113.2</td>\n",
       "      <td>107.6</td>\n",
       "      <td>0.541</td>\n",
       "      <td>0.521</td>\n",
       "      <td>2021-01-01</td>\n",
       "    </tr>\n",
       "  </tbody>\n",
       "</table>\n",
       "</div>"
      ],
      "text/plain": [
       "0 Team   Pace   ORtg   DRtg  Off_eFG%  DEF_eFG%       Date\n",
       "0  UTA   98.5  117.6  108.3     0.563     0.507 2021-01-01\n",
       "1  LAC   96.9  117.6  111.2     0.564     0.531 2021-01-01\n",
       "2  PHO   97.2  117.2  111.3     0.564     0.534 2021-01-01\n",
       "3  MIL  102.2  117.2  111.4     0.566     0.536 2021-01-01\n",
       "4  PHI   99.5  113.2  107.6     0.541     0.521 2021-01-01"
      ]
     },
     "execution_count": 163,
     "metadata": {},
     "output_type": "execute_result"
    }
   ],
   "source": [
    "df_ts.head()"
   ]
  },
  {
   "cell_type": "markdown",
   "metadata": {},
   "source": [
    "# Merging the Dataframes"
   ]
  },
  {
   "cell_type": "code",
   "execution_count": 154,
   "metadata": {},
   "outputs": [],
   "source": [
    "df_merged = pd.merge_asof(df_ps_clean, df_ts, on=\"Date\",\n",
    "                                 by=\"Team\")"
   ]
  },
  {
   "cell_type": "code",
   "execution_count": 157,
   "metadata": {},
   "outputs": [
    {
     "name": "stdout",
     "output_type": "stream",
     "text": [
      "<class 'pandas.core.frame.DataFrame'>\n",
      "Int64Index: 67210 entries, 0 to 67209\n",
      "Data columns (total 16 columns):\n",
      " #   Column    Non-Null Count  Dtype         \n",
      "---  ------    --------------  -----         \n",
      " 0   Name      67210 non-null  object        \n",
      " 1   Date      67210 non-null  datetime64[ns]\n",
      " 2   Team      67210 non-null  object        \n",
      " 3   Home      67210 non-null  int64         \n",
      " 4   W         67210 non-null  object        \n",
      " 5   L         67210 non-null  object        \n",
      " 6   Spread    67210 non-null  int64         \n",
      " 7   MP        67210 non-null  float64       \n",
      " 8   USG_perc  67210 non-null  float64       \n",
      " 9   FPTS      67210 non-null  float64       \n",
      " 10  Opp       67210 non-null  object        \n",
      " 11  Pace      65705 non-null  float64       \n",
      " 12  ORtg      65705 non-null  float64       \n",
      " 13  DRtg      65705 non-null  float64       \n",
      " 14  Off_eFG%  65705 non-null  float64       \n",
      " 15  DEF_eFG%  65705 non-null  float64       \n",
      "dtypes: datetime64[ns](1), float64(8), int64(2), object(5)\n",
      "memory usage: 8.7+ MB\n"
     ]
    }
   ],
   "source": [
    "df_merged.info()"
   ]
  },
  {
   "cell_type": "code",
   "execution_count": 159,
   "metadata": {},
   "outputs": [],
   "source": [
    "df_no_nulls = df_merged.dropna()"
   ]
  },
  {
   "cell_type": "code",
   "execution_count": 165,
   "metadata": {
    "scrolled": false
   },
   "outputs": [
    {
     "name": "stderr",
     "output_type": "stream",
     "text": [
      "C:\\Users\\12242\\anaconda3\\envs\\learn-env\\lib\\site-packages\\pandas\\core\\frame.py:4163: SettingWithCopyWarning: \n",
      "A value is trying to be set on a copy of a slice from a DataFrame\n",
      "\n",
      "See the caveats in the documentation: https://pandas.pydata.org/pandas-docs/stable/user_guide/indexing.html#returning-a-view-versus-a-copy\n",
      "  return super().drop(\n"
     ]
    }
   ],
   "source": [
    "df_no_nulls.drop(['W', 'L'], axis=1, inplace =True)"
   ]
  },
  {
   "cell_type": "markdown",
   "metadata": {},
   "source": [
    "## Creating Opp Stats Data"
   ]
  },
  {
   "cell_type": "code",
   "execution_count": 210,
   "metadata": {},
   "outputs": [],
   "source": [
    "# Create Dictionary with Team , Pace and turn that dictionary into a dataframe\n",
    "dictionary = dict(zip(df_no_nulls['Team'], df_no_nulls['Pace']))\n",
    "df_dic = pd.DataFrame(list(dictionary.items()))\n",
    "df_dic.columns = ['Opp', 'Opp_pace']"
   ]
  },
  {
   "cell_type": "code",
   "execution_count": 211,
   "metadata": {},
   "outputs": [],
   "source": [
    "# Create Dictionary with Team, DRtg and turn that dictionary into a dataframe\n",
    "dictionary2 = dict(zip(df_no_nulls['Team'], df_no_nulls['DRtg']))\n",
    "df_dic2 = pd.DataFrame(list(dictionary2.items()))\n",
    "df_dic2.columns = ['Opp', 'Opp_DRtg']"
   ]
  },
  {
   "cell_type": "code",
   "execution_count": 220,
   "metadata": {},
   "outputs": [
    {
     "name": "stdout",
     "output_type": "stream",
     "text": [
      "<class 'pandas.core.frame.DataFrame'>\n",
      "Int64Index: 30 entries, 0 to 29\n",
      "Data columns (total 3 columns):\n",
      " #   Column    Non-Null Count  Dtype  \n",
      "---  ------    --------------  -----  \n",
      " 0   Opp       30 non-null     object \n",
      " 1   Opp_pace  30 non-null     float64\n",
      " 2   Opp_DRtg  30 non-null     float64\n",
      "dtypes: float64(2), object(1)\n",
      "memory usage: 960.0+ bytes\n"
     ]
    }
   ],
   "source": [
    "df_Opp_stats = df_dic.merge(df_dic2, on = 'Opp', how = 'left')\n"
   ]
  },
  {
   "cell_type": "markdown",
   "metadata": {},
   "source": [
    "# Final Dataframe"
   ]
  },
  {
   "cell_type": "code",
   "execution_count": 223,
   "metadata": {},
   "outputs": [
    {
     "name": "stdout",
     "output_type": "stream",
     "text": [
      "<class 'pandas.core.frame.DataFrame'>\n",
      "Int64Index: 65705 entries, 0 to 65704\n",
      "Data columns (total 16 columns):\n",
      " #   Column    Non-Null Count  Dtype         \n",
      "---  ------    --------------  -----         \n",
      " 0   Name      65705 non-null  object        \n",
      " 1   Date      65705 non-null  datetime64[ns]\n",
      " 2   Team      65705 non-null  object        \n",
      " 3   Home      65705 non-null  int64         \n",
      " 4   Spread    65705 non-null  int64         \n",
      " 5   MP        65705 non-null  float64       \n",
      " 6   USG_perc  65705 non-null  float64       \n",
      " 7   FPTS      65705 non-null  float64       \n",
      " 8   Opp       65705 non-null  object        \n",
      " 9   Pace      65705 non-null  float64       \n",
      " 10  ORtg      65705 non-null  float64       \n",
      " 11  DRtg      65705 non-null  float64       \n",
      " 12  Off_eFG%  65705 non-null  float64       \n",
      " 13  DEF_eFG%  65705 non-null  float64       \n",
      " 14  Opp_pace  65705 non-null  float64       \n",
      " 15  Opp_DRtg  65705 non-null  float64       \n",
      "dtypes: datetime64[ns](1), float64(10), int64(2), object(3)\n",
      "memory usage: 8.5+ MB\n"
     ]
    }
   ],
   "source": [
    "df_final = df_no_nulls.merge(df_Opp_stats, on = 'Opp', how ='left')\n",
    "df_final.info()"
   ]
  },
  {
   "cell_type": "code",
   "execution_count": 228,
   "metadata": {},
   "outputs": [],
   "source": [
    "# Save DataFrame to csv\n",
    "df_final.to_csv('C:\\\\Users\\\\12242\\\\103122\\\\NBA-Fantasy-Point-Projections\\\\data\\\\Prepared_Data.csv', index=False)"
   ]
  }
 ],
 "metadata": {
  "kernelspec": {
   "display_name": "Python (learn-env)",
   "language": "python",
   "name": "learn-env"
  },
  "language_info": {
   "codemirror_mode": {
    "name": "ipython",
    "version": 3
   },
   "file_extension": ".py",
   "mimetype": "text/x-python",
   "name": "python",
   "nbconvert_exporter": "python",
   "pygments_lexer": "ipython3",
   "version": "3.8.5"
  }
 },
 "nbformat": 4,
 "nbformat_minor": 4
}
