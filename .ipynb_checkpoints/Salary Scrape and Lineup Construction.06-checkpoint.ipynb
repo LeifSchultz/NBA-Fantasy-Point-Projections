{
 "cells": [
  {
   "cell_type": "code",
   "execution_count": 1,
   "metadata": {},
   "outputs": [
    {
     "name": "stderr",
     "output_type": "stream",
     "text": [
      "C:\\Users\\12242\\anaconda3\\envs\\learn-env\\lib\\site-packages\\requests\\__init__.py:89: RequestsDependencyWarning: urllib3 (1.26.14) or chardet (3.0.4) doesn't match a supported version!\n",
      "  warnings.warn(\"urllib3 ({}) or chardet ({}) doesn't match a supported \"\n"
     ]
    }
   ],
   "source": [
    "from bs4 import BeautifulSoup\n",
    "import requests\n",
    "import pandas as pd\n",
    "import numpy as np\n",
    "import joblib"
   ]
  },
  {
   "cell_type": "markdown",
   "metadata": {},
   "source": [
    "## Get Players DrafKings Salary"
   ]
  },
  {
   "cell_type": "code",
   "execution_count": 52,
   "metadata": {
    "scrolled": true
   },
   "outputs": [],
   "source": [
    "r = requests.get('https://rotogrinders.com/lineups/nba?site=draftkings')\n",
    "soup = BeautifulSoup(r.text, 'lxml')\n",
    "\n",
    "\n",
    "divs = soup.find_all('div', {'class':'info'})\n",
    "\n",
    "d=[]\n",
    "for div in divs:\n",
    "    players = div.find(class_=\"player-popup\").get('title')\n",
    "    positions = div.find(class_=\"position\").text\n",
    "    salaries = div.find(class_=\"salary\").get('data-salary')\n",
    "    d.append((players, positions, salaries))\n",
    "    \n",
    "df = pd.DataFrame(d, columns=('Player', 'Position', 'Salary'))"
   ]
  },
  {
   "cell_type": "markdown",
   "metadata": {},
   "source": [
    "### Cleaning the Data"
   ]
  },
  {
   "cell_type": "code",
   "execution_count": 54,
   "metadata": {},
   "outputs": [],
   "source": [
    "df.Salary = df.Salary.str.replace('$', '')\n",
    "df.Salary = df.Salary.str.replace('K', '')\n",
    "df['Salary'] = pd.to_numeric(df['Salary'],errors = 'coerce')\n",
    "\n",
    "df['Position'] = df['Position'].replace(r'\\s+|\\\\n', ' ', regex=True)"
   ]
  },
  {
   "cell_type": "code",
   "execution_count": 55,
   "metadata": {
    "scrolled": true
   },
   "outputs": [
    {
     "data": {
      "text/html": [
       "<div>\n",
       "<style scoped>\n",
       "    .dataframe tbody tr th:only-of-type {\n",
       "        vertical-align: middle;\n",
       "    }\n",
       "\n",
       "    .dataframe tbody tr th {\n",
       "        vertical-align: top;\n",
       "    }\n",
       "\n",
       "    .dataframe thead th {\n",
       "        text-align: right;\n",
       "    }\n",
       "</style>\n",
       "<table border=\"1\" class=\"dataframe\">\n",
       "  <thead>\n",
       "    <tr style=\"text-align: right;\">\n",
       "      <th></th>\n",
       "      <th>Player</th>\n",
       "      <th>Position</th>\n",
       "      <th>Salary</th>\n",
       "    </tr>\n",
       "  </thead>\n",
       "  <tbody>\n",
       "    <tr>\n",
       "      <th>0</th>\n",
       "      <td>Trae Young</td>\n",
       "      <td>PG</td>\n",
       "      <td>9.7</td>\n",
       "    </tr>\n",
       "    <tr>\n",
       "      <th>1</th>\n",
       "      <td>Dejounte Murray</td>\n",
       "      <td>PG/SG</td>\n",
       "      <td>8.9</td>\n",
       "    </tr>\n",
       "    <tr>\n",
       "      <th>2</th>\n",
       "      <td>Saddiq Bey</td>\n",
       "      <td>SF/PF</td>\n",
       "      <td>5.7</td>\n",
       "    </tr>\n",
       "    <tr>\n",
       "      <th>3</th>\n",
       "      <td>De'Andre Hunter</td>\n",
       "      <td>SF/PF</td>\n",
       "      <td>5.2</td>\n",
       "    </tr>\n",
       "    <tr>\n",
       "      <th>4</th>\n",
       "      <td>Clint Capela</td>\n",
       "      <td>C</td>\n",
       "      <td>5.9</td>\n",
       "    </tr>\n",
       "  </tbody>\n",
       "</table>\n",
       "</div>"
      ],
      "text/plain": [
       "            Player Position  Salary\n",
       "0       Trae Young      PG      9.7\n",
       "1  Dejounte Murray   PG/SG      8.9\n",
       "2       Saddiq Bey   SF/PF      5.7\n",
       "3  De'Andre Hunter   SF/PF      5.2\n",
       "4     Clint Capela       C      5.9"
      ]
     },
     "execution_count": 55,
     "metadata": {},
     "output_type": "execute_result"
    }
   ],
   "source": [
    "df.head()"
   ]
  },
  {
   "cell_type": "code",
   "execution_count": null,
   "metadata": {},
   "outputs": [],
   "source": []
  },
  {
   "cell_type": "markdown",
   "metadata": {},
   "source": [
    "# Making Predictions\n",
    "- First we load in the model from Notebook 3"
   ]
  },
  {
   "cell_type": "code",
   "execution_count": 4,
   "metadata": {},
   "outputs": [],
   "source": [
    "final_model = joblib.load(\"lr_model.pkl\")"
   ]
  },
  {
   "cell_type": "markdown",
   "metadata": {},
   "source": [
    "### Pass the New daily data through the pipeline"
   ]
  },
  {
   "cell_type": "code",
   "execution_count": null,
   "metadata": {},
   "outputs": [],
   "source": [
    "numeric_features = ['Spread','MP','USG_perc','Pace','Opp_pace','Opp_DRtg']\n",
    "categorical_features = ['Name','Team', 'Opp', 'Home']"
   ]
  },
  {
   "cell_type": "code",
   "execution_count": null,
   "metadata": {},
   "outputs": [],
   "source": [
    "# One hot encode all Categorical Features\n",
    "categorical_transformer = Pipeline(steps=[\n",
    "    ('onehot', OneHotEncoder(handle_unknown='ignore')),\n",
    "])"
   ]
  },
  {
   "cell_type": "code",
   "execution_count": null,
   "metadata": {},
   "outputs": [],
   "source": [
    "# Scale all the Numeric Features\n",
    "numeric_transformer = Pipeline(steps=[\n",
    "    ('imputer', SimpleImputer(strategy='median')),\n",
    "    ('scaler', StandardScaler()),\n",
    "])"
   ]
  },
  {
   "cell_type": "code",
   "execution_count": null,
   "metadata": {},
   "outputs": [],
   "source": [
    "# Joining the two pipelines together\n",
    "preprocessor = ColumnTransformer(\n",
    "    transformers=[\n",
    "        ('num', numeric_transformer, numeric_features),\n",
    "        ('cat', categorical_transformer, categorical_features)\n",
    "])"
   ]
  },
  {
   "cell_type": "code",
   "execution_count": null,
   "metadata": {},
   "outputs": [],
   "source": [
    "final_model.fit() = final_model.fit(X, y)\n",
    "Predictions = final_model.predict(X)"
   ]
  },
  {
   "cell_type": "code",
   "execution_count": null,
   "metadata": {},
   "outputs": [],
   "source": []
  },
  {
   "cell_type": "markdown",
   "metadata": {},
   "source": [
    "# Lineup Optomizer\n",
    "- Creating the DraftKings Lineup with the highest total of projected Fantasy points\n",
    "- Keeping the constraints of total salary being under 50 and filling ever roster position"
   ]
  },
  {
   "cell_type": "code",
   "execution_count": null,
   "metadata": {},
   "outputs": [],
   "source": [
    "# Function that identifes position values in Pos column\n",
    "def add_eligible_positions(df):\n",
    "    pos = {'PG':[], 'SG':[], 'SF':[], 'PF':[], 'C':[], 'G':[], 'F':[]}\n",
    "    \n",
    "    for i in range(df.shape[0]):\n",
    "        for key in pos.keys():\n",
    "            if key in df.loc[i, 'Pos']:\n",
    "                pos[key].append(1)\n",
    "            else:\n",
    "                pos[key].append(0)\n",
    "    \n",
    "    for key in pos.keys():\n",
    "        df[key] = pos[key]"
   ]
  },
  {
   "cell_type": "code",
   "execution_count": null,
   "metadata": {},
   "outputs": [],
   "source": [
    "class GeneticAlgorithm():\n",
    "    #return a list of lineups with indices in df_target\n",
    "    def create_random_lineups(self, df, num_lineups):\n",
    "        lineups = {'PG':[], 'SG':[], 'SF':[], 'PF':[], 'C':[], 'G':[], 'F':[], 'Util':[]}\n",
    "        n = df.shape[0]\n",
    "\n",
    "        for i in range(num_lineups):\n",
    "            for key in list(lineups.keys())[:7]:\n",
    "                lineups[key].append(df[df[key]==1].sample(1).index[0])\n",
    "\n",
    "            lineups['Util'].append(df.sample(1).index[0])\n",
    "\n",
    "        df_lineups = pd.DataFrame(lineups).loc[:,['PG', 'SG', 'SF', 'PF', 'C', 'G', 'F', 'Util']]\n",
    "\n",
    "        return df_lineups\n",
    "    def calculate_fitness(self, df_lineups):\n",
    "        fitness = []\n",
    "\n",
    "        for i in range(df_lineups.shape[0]):\n",
    "            salary = df_target.loc[df_lineups.loc[i,:].values, 'Salary'].sum()\n",
    "            total_FPTS = df_target.loc[df_lineups.loc[i,:].values, 'Pred'].sum()\n",
    "\n",
    "            #Check for duplicates\n",
    "            if len(set(df_lineups.loc[i,:].values)) < 8:\n",
    "                fitness.append(0)\n",
    "\n",
    "            #Check for Salary Caps\n",
    "            elif salary >= salary_cap:\n",
    "                fitness.append(0)\n",
    "\n",
    "            #Calculate the cumulative predicted FPTS\n",
    "            else:\n",
    "                fitness.append(total_FPTS)\n",
    "\n",
    "        return fitness"
   ]
  }
 ],
 "metadata": {
  "kernelspec": {
   "display_name": "Python (learn-env)",
   "language": "python",
   "name": "learn-env"
  },
  "language_info": {
   "codemirror_mode": {
    "name": "ipython",
    "version": 3
   },
   "file_extension": ".py",
   "mimetype": "text/x-python",
   "name": "python",
   "nbconvert_exporter": "python",
   "pygments_lexer": "ipython3",
   "version": "3.8.5"
  }
 },
 "nbformat": 4,
 "nbformat_minor": 4
}
